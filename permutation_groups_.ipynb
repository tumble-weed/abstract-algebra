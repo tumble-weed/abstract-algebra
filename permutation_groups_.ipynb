{
  "nbformat": 4,
  "nbformat_minor": 0,
  "metadata": {
    "colab": {
      "name": "permutation groups .ipynb",
      "version": "0.3.2",
      "provenance": [],
      "collapsed_sections": [],
      "include_colab_link": true
    },
    "kernelspec": {
      "name": "python3",
      "display_name": "Python 3"
    }
  },
  "cells": [
    {
      "cell_type": "markdown",
      "metadata": {
        "id": "view-in-github",
        "colab_type": "text"
      },
      "source": [
        "<a href=\"https://colab.research.google.com/github/tumble-weed/abstract-algebra/blob/master/permutation_groups_.ipynb\" target=\"_parent\"><img src=\"https://colab.research.google.com/assets/colab-badge.svg\" alt=\"Open In Colab\"/></a>"
      ]
    },
    {
      "cell_type": "markdown",
      "metadata": {
        "id": "u3AEBXOp4hcG",
        "colab_type": "text"
      },
      "source": [
        "## Permutation groups\n",
        "This (currently) implements:\n",
        "- conversion from Cycle to Disjoint-Cycle\n",
        "\n",
        "__TODO__:\n",
        "\n",
        "- Conversion between Array and Cycle notation"
      ]
    },
    {
      "cell_type": "code",
      "metadata": {
        "id": "V1DH6sv7wdDx",
        "colab_type": "code",
        "colab": {}
      },
      "source": [
        "def to_disjoint(C,n_symbols):\n",
        "    '''\n",
        "    Converts a nondisjoint cycle to disjoint form.\n",
        "    for e.g. if C = [(1,2),(3,),(4,5),(1,5,3),(2,4)]\n",
        "    then the disjoint form is  [(1,4),(2,5,3)] \n",
        "    \n",
        "    ASSUMPTION: symbols start from 1\n",
        "    '''\n",
        "    s = 1\n",
        "    disjoint_form = []\n",
        "    seen_till_now = set([])\n",
        "    all_syms = set(range(1,n_symbols+1))\n",
        "    while len(seen_till_now) < n_symbols:\n",
        "        this_cycle_rev = []\n",
        "        while s not in this_cycle_rev:\n",
        "            this_cycle_rev.append(s)\n",
        "            for c in C[::-1]:\n",
        "                if s in c:\n",
        "                    at = list(c).index(s)\n",
        "                    if  at < len(c)-1:\n",
        "                        s = c[at+1] \n",
        "                    else:\n",
        "                        s = c[0]\n",
        "\n",
        "        disjoint_form.append(this_cycle_rev[::-1])        \n",
        "        seen_till_now = seen_till_now.union(set(this_cycle_rev))\n",
        "        remaining = list(all_syms.difference(seen_till_now))\n",
        "        print(f'left:{remaining} done:{seen_till_now}')\n",
        "        if len(remaining)>0:\n",
        "            s = remaining[0]\n",
        "        else:\n",
        "            break     \n",
        "        \n",
        "    return disjoint_form"
      ],
      "execution_count": 0,
      "outputs": []
    },
    {
      "cell_type": "code",
      "metadata": {
        "id": "qenuqfpf2Pvr",
        "colab_type": "code",
        "colab": {
          "base_uri": "https://localhost:8080/",
          "height": 68
        },
        "outputId": "e9faf22c-1740-45f7-c9d8-bcbb8dd07865"
      },
      "source": [
        "print(to_disjoint([(1,2),(3,),(4,5),(1,5,3),(2,4)],5))"
      ],
      "execution_count": 20,
      "outputs": [
        {
          "output_type": "stream",
          "text": [
            "left:[2, 3, 5] done:{1, 4}\n",
            "left:[] done:{1, 2, 3, 4, 5}\n",
            "[[4, 1], [3, 5, 2]]\n"
          ],
          "name": "stdout"
        }
      ]
    }
  ]
}